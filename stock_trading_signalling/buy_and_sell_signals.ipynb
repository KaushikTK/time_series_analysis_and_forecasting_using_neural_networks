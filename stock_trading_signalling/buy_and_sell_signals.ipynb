{
 "cells": [
  {
   "cell_type": "code",
   "execution_count": 3,
   "id": "d6c1037f-64d4-46c5-9dff-cffec4d9e5fc",
   "metadata": {},
   "outputs": [],
   "source": [
    "%run utils.ipynb"
   ]
  },
  {
   "cell_type": "code",
   "execution_count": null,
   "id": "881d1f1c-34ac-4612-8800-a0da4aa7c795",
   "metadata": {},
   "outputs": [],
   "source": [
    "def check(row):\n",
    "    global TRADES, trade_in_progress, signals, holding_period, check_trend_change\n",
    "    \n",
    "    if(trade_in_progress):\n",
    "        _data = TRADES[-1]\n",
    "        # time to sell after n holding days\n",
    "        if(row['index']==_data['sell_index']):\n",
    "            _data['sell_price'] = row['Adj Close']\n",
    "            _data['sell_date'] = str(pd.to_datetime(row['Date']).date())\n",
    "            _data['returns'] = round((_data['sell_price']-_data['buy_price'])/_data['buy_price']*100, 2)\n",
    "            TRADES[-1] = _data\n",
    "            trade_in_progress = False\n",
    "                \n",
    "    else:\n",
    "        _r = row.merge(signals, how='inner', on=[signals.columns[:-1]])\n",
    "        strategy = _r.shape[0]\n",
    "        \n",
    "        if(strategy>0): \n",
    "            trade_in_progress = True\n",
    "            _data = {\n",
    "                'grade': _r['signal_grade'].values[0],\n",
    "                'buy_date': str(pd.to_datetime(row['Date']).date()),\n",
    "                'buy_index': row['index'],\n",
    "                'sell_date': '',\n",
    "                'sell_index': row['index'] + holding_period,\n",
    "                'buy_price': row['Adj Close'],\n",
    "                'sell_price': '',\n",
    "                'returns': 0           \n",
    "            }\n",
    "            TRADES.append(_data)\n",
    "            del _data\n"
   ]
  },
  {
   "cell_type": "code",
   "execution_count": null,
   "id": "a33f7121-fe9c-43fb-a18e-8ef217fa0c5e",
   "metadata": {},
   "outputs": [],
   "source": []
  }
 ],
 "metadata": {
  "kernelspec": {
   "display_name": "Python 3 (ipykernel)",
   "language": "python",
   "name": "python3"
  },
  "language_info": {
   "codemirror_mode": {
    "name": "ipython",
    "version": 3
   },
   "file_extension": ".py",
   "mimetype": "text/x-python",
   "name": "python",
   "nbconvert_exporter": "python",
   "pygments_lexer": "ipython3",
   "version": "3.8.6"
  }
 },
 "nbformat": 4,
 "nbformat_minor": 5
}
