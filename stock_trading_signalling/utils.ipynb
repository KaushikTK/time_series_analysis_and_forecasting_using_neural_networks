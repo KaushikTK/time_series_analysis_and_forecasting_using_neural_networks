{
 "cells": [
  {
   "cell_type": "code",
   "execution_count": 29,
   "id": "257ec44e-b874-4ef2-a0bf-7e5126fdfbd1",
   "metadata": {},
   "outputs": [],
   "source": [
    "import yfinance as yf\n",
    "import pandas as pd\n",
    "import pandas_ta as ta\n",
    "import talib as ta2\n",
    "import numpy as np\n",
    "from datetime import datetime as dt\n",
    "from sklearn.model_selection import train_test_split\n",
    "import matplotlib.pyplot as plt\n",
    "from datetime import timedelta as delta\n",
    "import numpy as np\n",
    "\n",
    "%matplotlib inline"
   ]
  },
  {
   "cell_type": "code",
   "execution_count": 46,
   "id": "dbfd8611-9ca4-4f73-880f-1913b3f6460f",
   "metadata": {},
   "outputs": [],
   "source": [
    "def get_stock_info(stock):\n",
    "    start_date = '2000-01-01'\n",
    "    end_date = (dt.now() + delta(1)).strftime('%Y-%m-%d')\n",
    "    return yf.download(f\"{stock}.NS\", period='1d', start=start_date, end=end_date, progress=False)"
   ]
  },
  {
   "cell_type": "code",
   "execution_count": 31,
   "id": "4a3d1d10-afc6-4feb-bfc6-e27ed5dd3f12",
   "metadata": {},
   "outputs": [],
   "source": [
    "def add_signal_indicators(df):\n",
    "    df['SMA_10'] = ta.sma(df['Adj Close'],length=10)\n",
    "    df['SMA_30'] = ta.sma(df['Adj Close'],length=30)\n",
    "    df['SMA_50'] = ta.sma(df['Adj Close'],length=50)\n",
    "    df['SMA_200'] = ta.sma(df['Adj Close'],length=200)\n",
    "    \n",
    "    macd = ta.macd(df['Adj Close'], fast=12, slow=26, signal=9)\n",
    "    df['MACD'] = macd['MACD_12_26_9']\n",
    "    df['MACD_signal'] = macd['MACDs_12_26_9']\n",
    "    df['MACD_hist'] = macd['MACDh_12_26_9']\n",
    "\n",
    "    df['10_cross_30'] = np.where(df['SMA_10'] > df['SMA_30'], 1, 0)\n",
    "    df['MACD_Signal_MACD'] = np.where(df['MACD_signal'] < df['MACD'], 1, 0)\n",
    "    df['MACD_lim'] = np.where(df['MACD']>0, 1, 0)\n",
    "    df['abv_50'] = np.where((df['SMA_30']>df['SMA_50'])&(df['SMA_10']>df['SMA_50']), 1, 0)\n",
    "    df['abv_200'] = np.where((df['SMA_30']>df['SMA_200'])&(df['SMA_10']>df['SMA_200'])&(df['SMA_50']>df['SMA_200']), 1, 0)\n",
    "    \n",
    "    return df"
   ]
  },
  {
   "cell_type": "code",
   "execution_count": 32,
   "id": "4f57f9e8-d2a7-4187-a060-5268c5c2e48f",
   "metadata": {},
   "outputs": [],
   "source": [
    "def calculate_returns(df):\n",
    "    df['5D_returns'] = (df['Adj Close'].shift(-5)-df['Adj Close'])/df['Close']*100\n",
    "    df['10D_returns'] = (df['Adj Close'].shift(-10)-df['Adj Close'])/df['Close']*100\n",
    "\n",
    "    df['5D_positive'] = np.where(df['5D_returns']>0, 1, 0)\n",
    "    df['10D_positive'] = np.where(df['10D_returns']>0, 1, 0)\n",
    "    \n",
    "    return df.dropna()"
   ]
  },
  {
   "cell_type": "code",
   "execution_count": 33,
   "id": "4537c2af-45b6-436b-b015-751698c0688d",
   "metadata": {},
   "outputs": [],
   "source": [
    "def get_eda_and_deepdive(df):\n",
    "    eda = df.dropna().groupby(['10_cross_30', 'MACD_Signal_MACD', 'MACD_lim', 'abv_50', 'abv_200'])[['5D_returns', '10D_returns']]\\\n",
    "    .agg(['count', 'mean','median', 'min', 'max'])\n",
    "    \n",
    "    deepdive = df.dropna().groupby(['10_cross_30', 'MACD_Signal_MACD', 'MACD_lim', 'abv_50', 'abv_200',\n",
    "                     '5D_positive', '10D_positive'])[['5D_returns', '10D_returns']]\\\n",
    "    .agg(['count', 'mean','median', 'min', 'max'])\n",
    "\n",
    "    return eda, deepdive"
   ]
  },
  {
   "cell_type": "code",
   "execution_count": 34,
   "id": "115bd5eb-f001-4013-a711-8bee23779c1b",
   "metadata": {},
   "outputs": [],
   "source": [
    "def calculate_returns_for_signals(df):\n",
    "    ref_5d = df.dropna()\\\n",
    "        .groupby(['10_cross_30', 'MACD_Signal_MACD', 'MACD_lim', 'abv_50', 'abv_200', '5D_positive'])[['5D_returns']]\\\n",
    "        .agg(['mean','median']).rename(columns={'count':'num','mean':'5d_mean', 'median': '5d_median'})\n",
    "    \n",
    "    ref_10d = df.dropna()\\\n",
    "        .groupby(['10_cross_30', 'MACD_Signal_MACD', 'MACD_lim', 'abv_50', 'abv_200', '5D_positive'])[['10D_returns']]\\\n",
    "        .agg(['mean','median']).rename(columns={'mean':'10d_mean', 'median': '10d_median'})\n",
    "    \n",
    "    ref_count = df.dropna()\\\n",
    "        .groupby(['10_cross_30', 'MACD_Signal_MACD', 'MACD_lim', 'abv_50', 'abv_200'])[['10_cross_30']]\\\n",
    "        .agg(['count']).rename(columns={'count':'total_count'})\n",
    "    \n",
    "    ref_num = df.dropna()\\\n",
    "        .groupby(['10_cross_30', 'MACD_Signal_MACD', 'MACD_lim', 'abv_50', 'abv_200', '5D_positive'])[['10_cross_30']]\\\n",
    "        .agg(['count']).rename(columns={'count':'num'})\n",
    "    \n",
    "    ref = ref_5d.merge(ref_10d, how='left', left_index=True, right_index=True)\\\n",
    "        .merge(ref_count, how='left', left_index=True, right_index=True)\n",
    "    \n",
    "    ref['5d_returns'] = (ref['5D_returns', '5d_mean']+ref['5D_returns', '5d_median'])/2\n",
    "    ref['10d_returns'] = (ref['10D_returns', '10d_mean']+ref['10D_returns', '10d_median'])/2\n",
    "    ref['returns'] = (ref['5d_returns']+ref['10d_returns'])/2\n",
    "    \n",
    "    ref = ref.merge(ref_num, how='left', left_index=True, right_index=True)\n",
    "    \n",
    "    ref['proba'] = round(ref['10_cross_30', 'num']/ref['10_cross_30', 'total_count'], 2)\n",
    "    \n",
    "    ref = ref.reset_index()\n",
    "    \n",
    "    ref.columns = ref.columns.droplevel(1)\n",
    "    \n",
    "    ref = ref[['10_cross_30', 'MACD_Signal_MACD', 'MACD_lim', 'abv_50', 'abv_200',\n",
    "           '5D_positive', 'returns', 'proba']]\n",
    "    \n",
    "    ref['actual_returns'] = round(ref['returns']*ref['proba'], 2)\n",
    "    \n",
    "    ref.columns = ['10_cross_30', '_', '_', 'MACD_Signal_MACD',\n",
    "           'MACD_lim', 'abv_50', 'abv_200', '5D_positive', 'returns', 'proba',\n",
    "           'actual_returns']\n",
    "    \n",
    "    ref = ref.drop('_', axis=1)\n",
    "    \n",
    "    return ref"
   ]
  },
  {
   "cell_type": "code",
   "execution_count": 43,
   "id": "5d1fe294-1988-40f9-848a-d58e80f8a51f",
   "metadata": {},
   "outputs": [],
   "source": [
    "def prioritise_signals(ref):\n",
    "    base = ref[(ref['10_cross_30']==1)|(ref['MACD_Signal_MACD']==1)]\\\n",
    "        .drop_duplicates()\\\n",
    "        .groupby(['10_cross_30', 'MACD_Signal_MACD', 'MACD_lim', 'abv_50', 'abv_200'])\\\n",
    "        .sum()['actual_returns']\\\n",
    "        .reset_index()\\\n",
    "        .sort_values('actual_returns', ascending=False)\n",
    "    \n",
    "    probs = ref[ref['5D_positive']==1][['10_cross_30', 'MACD_Signal_MACD', 'MACD_lim', 'abv_50', 'abv_200', 'proba']]\n",
    "    \n",
    "    base = base.merge(probs, on=['10_cross_30', 'MACD_Signal_MACD', 'MACD_lim', 'abv_50', 'abv_200'], how='left')\n",
    "    \n",
    "    base = base[(base['proba']>0.65)&(base['actual_returns']>0.5)]\n",
    "    \n",
    "    return base.sort_values(by=['actual_returns'], ascending=False)\n",
    "    "
   ]
  },
  {
   "cell_type": "code",
   "execution_count": 47,
   "id": "42731d8b-8903-4af8-a9a9-4ff2ec75f71c",
   "metadata": {},
   "outputs": [],
   "source": [
    "def analyse(stock):\n",
    "    df = get_stock_info(stock)\n",
    "    df = add_signal_indicators(df)\n",
    "    df = calculate_returns(df)\n",
    "    eda, deepdive = get_eda_and_deepdive(df)\n",
    "    df = calculate_returns_for_signals(df)\n",
    "    output = prioritise_signals(df)\n",
    "    output['stock'] = stock\n",
    "\n",
    "    return output, eda, deepdive"
   ]
  }
 ],
 "metadata": {
  "kernelspec": {
   "display_name": "Python 3 (ipykernel)",
   "language": "python",
   "name": "python3"
  },
  "language_info": {
   "codemirror_mode": {
    "name": "ipython",
    "version": 3
   },
   "file_extension": ".py",
   "mimetype": "text/x-python",
   "name": "python",
   "nbconvert_exporter": "python",
   "pygments_lexer": "ipython3",
   "version": "3.9.7"
  }
 },
 "nbformat": 4,
 "nbformat_minor": 5
}
