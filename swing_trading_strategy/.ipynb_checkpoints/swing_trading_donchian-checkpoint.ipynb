{
 "cells": [
  {
   "cell_type": "code",
   "execution_count": 2,
   "id": "ff1a60ab-4d63-4472-811c-783409c2105f",
   "metadata": {},
   "outputs": [
    {
     "name": "stderr",
     "output_type": "stream",
     "text": [
      "WARNING: You are using pip version 20.2.1; however, version 23.3.2 is available.\n",
      "You should consider upgrading via the 'd:\\kaushik\\github repos\\time_series_analysis_and_forecasting_using_neural_networks\\swing_trading_strategy\\env\\scripts\\python.exe -m pip install --upgrade pip' command.\n"
     ]
    }
   ],
   "source": [
    "!pip install -q pandas_ta yfinance"
   ]
  },
  {
   "cell_type": "code",
   "execution_count": 46,
   "id": "23e00d98-c8db-4ad5-8457-aea884c12dd9",
   "metadata": {},
   "outputs": [],
   "source": [
    "import yfinance as yf\n",
    "import numpy as np\n",
    "import pandas_ta as ta\n",
    "import numpy as np\n",
    "import pandas as pd"
   ]
  },
  {
   "cell_type": "code",
   "execution_count": 47,
   "id": "9d87a12a-d840-487e-a633-596073430780",
   "metadata": {},
   "outputs": [],
   "source": [
    "def trade_donchian(row):\n",
    "    global trades, trade_open\n",
    "    row = row.to_dict()\n",
    "\n",
    "    if((trade_open==True) and (row['long'] == 1)): pass\n",
    "    elif((trade_open==False) and (row['long'] == 1)):\n",
    "        # open trade\n",
    "        trade_open = True\n",
    "        _trade = {\n",
    "            'buy_date': row['next_date'],\n",
    "            'buy_price': round(row['next_day_open_price']*1.005,2),\n",
    "            'sell_price': None,\n",
    "            'sell_date': None,\n",
    "        }\n",
    "        trades.append(_trade)\n",
    "        del _trade\n",
    "    elif((trade_open==False) and (row['short'] == 1)): pass\n",
    "    elif((trade_open==True) and (row['short'] == 1)):\n",
    "        # close trade\n",
    "        trade_open = False\n",
    "        _trade = trades[-1]\n",
    "        _trade['sell_date'] = row['next_date']\n",
    "        _trade['sell_price'] = round(row['next_day_open_price']*0.995,2)\n",
    "        trades[-1] = _trade\n",
    "        del _trade"
   ]
  },
  {
   "cell_type": "code",
   "execution_count": 48,
   "id": "3996c788-a1a6-4b01-8636-238782645f29",
   "metadata": {
    "scrolled": true
   },
   "outputs": [],
   "source": [
    "def backtest(stock, period, low=20, high=20):\n",
    "    global trades, trade_open\n",
    "    \n",
    "    data = yf.download(f'{stock}.ns', period=period, progress=False)\n",
    "    \n",
    "    data = data.reset_index()\n",
    "    \n",
    "    data[['low', 'mid', 'high']] = data.ta.donchian(lower_length=low, upper_length=high)\n",
    "    \n",
    "    data['long'] = ((data['Close']==data['low'])|(data['Low']==data['low'])).astype('int')\n",
    "    data['short'] = ((data['Close']==data['high'])|(data['High']==data['high'])).astype('int')\n",
    "    \n",
    "    data['next_day_open_price'] = data['Open'].shift(-1)\n",
    "    data['next_date'] = data['Date'].shift(-1).astype('string')\n",
    "    \n",
    "    trade_open = False\n",
    "    \n",
    "    trades = []\n",
    "    \n",
    "    data.dropna(inplace=True)\n",
    "    \n",
    "    cols = ['Date', 'Open', 'Close', 'Adj Close', 'Low', 'High', 'low', 'mid', 'high', 'long', 'short', 'next_day_open_price', 'next_date']\n",
    "    data = data[cols]\n",
    "    data.apply(trade_donchian, axis=1)\n",
    "\n",
    "    if(len(trades)==0): return None\n",
    "    x = pd.DataFrame(trades)\n",
    "    \n",
    "    x['buy_date'] = pd.to_datetime(x['buy_date'], format=\"%Y-%m-%d\", dayfirst=True)\n",
    "    x['sell_date'] = pd.to_datetime(x['sell_date'], format=\"%Y-%m-%d\", dayfirst=True)\n",
    "    x['returns'] = round(100*(x['sell_price']-x['buy_price'])/x['buy_price'],2)\n",
    "    x['holding_period'] = (x['sell_date'] - x['buy_date']).dt.days\n",
    "    x['stock'] = stock\n",
    "    return x"
   ]
  },
  {
   "cell_type": "code",
   "execution_count": 49,
   "id": "26204ec6-b48c-4592-b120-f3e684d62611",
   "metadata": {
    "scrolled": true
   },
   "outputs": [],
   "source": [
    "TRADES = pd.DataFrame()\n",
    "trades = []\n",
    "trade_open = False\n",
    "\n",
    "nifty_50_stocks = ['EICHERMOT','HEROMOTOCO','NESTLEIND','ONGC',\n",
    "                   'BAJAJ-AUTO','TATASTEEL','GRASIM',\n",
    "                   'BRITANNIA','BAJFINANCE','M&M','divislab',\n",
    "                   'HINDUNILVR','HDFCBANK','HDFCLIFE','BHARTIARTL','TCS',\n",
    "                   'LT','DRREDDY','ULTRACEMCO','SUNPHARMA','NTPC',\n",
    "                   'TATAMOTORS','UPL','SBIN','HINDALCO','ITC','JSWSTEEL',\n",
    "                   'COALINDIA','RELIANCE','BPCL','LTIM','MARUTI','HCLTECH',\n",
    "                   'POWERGRID','WIPRO','SBILIFE','AXISBANK',\n",
    "                   'ADANIPORTS','ICICIBANK','TITAN','BAJAJFINSV','KOTAKBANK',\n",
    "                   'TATACONSUM','APOLLOHOSP','INFY','ASIANPAINT',\n",
    "                   'ADANIENT','INDUSINDBK','TECHM','CIPLA']\n",
    "\n",
    "\n",
    "for stock in nifty_50_stocks:\n",
    "    _tr = backtest(stock, '10y', 20, 20)\n",
    "    if(len(TRADES)==0): TRADES = _tr\n",
    "    else: TRADES = pd.concat([TRADES, _tr], ignore_index=True)"
   ]
  },
  {
   "cell_type": "code",
   "execution_count": 50,
   "id": "8f5675cd-ef54-4e89-a34f-c491028dff70",
   "metadata": {},
   "outputs": [],
   "source": [
    "TRADES.to_csv('trades.csv', index=False)"
   ]
  },
  {
   "cell_type": "code",
   "execution_count": 51,
   "id": "d8c9da4a-e344-4d32-ae93-42b95a78caf8",
   "metadata": {},
   "outputs": [],
   "source": [
    "historical_trades = TRADES.dropna(how='any')"
   ]
  },
  {
   "cell_type": "code",
   "execution_count": 52,
   "id": "7b710c2f-ca82-40e5-beb0-bba6a5a230d3",
   "metadata": {},
   "outputs": [
    {
     "data": {
      "text/html": [
       "<div>\n",
       "<style scoped>\n",
       "    .dataframe tbody tr th:only-of-type {\n",
       "        vertical-align: middle;\n",
       "    }\n",
       "\n",
       "    .dataframe tbody tr th {\n",
       "        vertical-align: top;\n",
       "    }\n",
       "\n",
       "    .dataframe thead th {\n",
       "        text-align: right;\n",
       "    }\n",
       "</style>\n",
       "<table border=\"1\" class=\"dataframe\">\n",
       "  <thead>\n",
       "    <tr style=\"text-align: right;\">\n",
       "      <th></th>\n",
       "      <th>returns</th>\n",
       "      <th>holding_period</th>\n",
       "    </tr>\n",
       "  </thead>\n",
       "  <tbody>\n",
       "    <tr>\n",
       "      <th>count</th>\n",
       "      <td>1991.000000</td>\n",
       "      <td>1991.000000</td>\n",
       "    </tr>\n",
       "    <tr>\n",
       "      <th>mean</th>\n",
       "      <td>0.942185</td>\n",
       "      <td>37.942240</td>\n",
       "    </tr>\n",
       "    <tr>\n",
       "      <th>std</th>\n",
       "      <td>8.435581</td>\n",
       "      <td>27.257642</td>\n",
       "    </tr>\n",
       "    <tr>\n",
       "      <th>min</th>\n",
       "      <td>-68.710000</td>\n",
       "      <td>1.000000</td>\n",
       "    </tr>\n",
       "    <tr>\n",
       "      <th>25%</th>\n",
       "      <td>-1.670000</td>\n",
       "      <td>18.000000</td>\n",
       "    </tr>\n",
       "    <tr>\n",
       "      <th>50%</th>\n",
       "      <td>2.490000</td>\n",
       "      <td>31.000000</td>\n",
       "    </tr>\n",
       "    <tr>\n",
       "      <th>75%</th>\n",
       "      <td>5.495000</td>\n",
       "      <td>51.000000</td>\n",
       "    </tr>\n",
       "    <tr>\n",
       "      <th>max</th>\n",
       "      <td>31.180000</td>\n",
       "      <td>173.000000</td>\n",
       "    </tr>\n",
       "  </tbody>\n",
       "</table>\n",
       "</div>"
      ],
      "text/plain": [
       "           returns  holding_period\n",
       "count  1991.000000     1991.000000\n",
       "mean      0.942185       37.942240\n",
       "std       8.435581       27.257642\n",
       "min     -68.710000        1.000000\n",
       "25%      -1.670000       18.000000\n",
       "50%       2.490000       31.000000\n",
       "75%       5.495000       51.000000\n",
       "max      31.180000      173.000000"
      ]
     },
     "execution_count": 52,
     "metadata": {},
     "output_type": "execute_result"
    }
   ],
   "source": [
    "historical_trades[['returns', 'holding_period']].describe()"
   ]
  },
  {
   "cell_type": "code",
   "execution_count": 56,
   "id": "62696bc8-5ac4-4bf1-a6c8-c6a3c978b3e3",
   "metadata": {},
   "outputs": [],
   "source": [
    "historical_trades.loc[:,'pos_neg'] = (historical_trades['returns']>0).astype('int')"
   ]
  },
  {
   "cell_type": "code",
   "execution_count": 58,
   "id": "a99791ba-0482-43c5-8eb4-31ba73c4add2",
   "metadata": {},
   "outputs": [
    {
     "data": {
      "text/plain": [
       "pos_neg\n",
       "1    66.248117\n",
       "0    33.751883\n",
       "Name: proportion, dtype: float64"
      ]
     },
     "execution_count": 58,
     "metadata": {},
     "output_type": "execute_result"
    }
   ],
   "source": [
    "historical_trades['pos_neg'].value_counts(normalize=True)*100"
   ]
  },
  {
   "cell_type": "code",
   "execution_count": 59,
   "id": "a7adedcd-83ff-436f-abcd-8f6678fd8914",
   "metadata": {},
   "outputs": [
    {
     "data": {
      "text/html": [
       "<div>\n",
       "<style scoped>\n",
       "    .dataframe tbody tr th:only-of-type {\n",
       "        vertical-align: middle;\n",
       "    }\n",
       "\n",
       "    .dataframe tbody tr th {\n",
       "        vertical-align: top;\n",
       "    }\n",
       "\n",
       "    .dataframe thead tr th {\n",
       "        text-align: left;\n",
       "    }\n",
       "\n",
       "    .dataframe thead tr:last-of-type th {\n",
       "        text-align: right;\n",
       "    }\n",
       "</style>\n",
       "<table border=\"1\" class=\"dataframe\">\n",
       "  <thead>\n",
       "    <tr>\n",
       "      <th></th>\n",
       "      <th colspan=\"8\" halign=\"left\">returns</th>\n",
       "      <th colspan=\"8\" halign=\"left\">holding_period</th>\n",
       "    </tr>\n",
       "    <tr>\n",
       "      <th></th>\n",
       "      <th>count</th>\n",
       "      <th>mean</th>\n",
       "      <th>std</th>\n",
       "      <th>min</th>\n",
       "      <th>25%</th>\n",
       "      <th>50%</th>\n",
       "      <th>75%</th>\n",
       "      <th>max</th>\n",
       "      <th>count</th>\n",
       "      <th>mean</th>\n",
       "      <th>std</th>\n",
       "      <th>min</th>\n",
       "      <th>25%</th>\n",
       "      <th>50%</th>\n",
       "      <th>75%</th>\n",
       "      <th>max</th>\n",
       "    </tr>\n",
       "    <tr>\n",
       "      <th>pos_neg</th>\n",
       "      <th></th>\n",
       "      <th></th>\n",
       "      <th></th>\n",
       "      <th></th>\n",
       "      <th></th>\n",
       "      <th></th>\n",
       "      <th></th>\n",
       "      <th></th>\n",
       "      <th></th>\n",
       "      <th></th>\n",
       "      <th></th>\n",
       "      <th></th>\n",
       "      <th></th>\n",
       "      <th></th>\n",
       "      <th></th>\n",
       "      <th></th>\n",
       "    </tr>\n",
       "  </thead>\n",
       "  <tbody>\n",
       "    <tr>\n",
       "      <th>0</th>\n",
       "      <td>672.0</td>\n",
       "      <td>-7.445238</td>\n",
       "      <td>8.717681</td>\n",
       "      <td>-68.71</td>\n",
       "      <td>-9.3075</td>\n",
       "      <td>-4.63</td>\n",
       "      <td>-1.5875</td>\n",
       "      <td>-0.00</td>\n",
       "      <td>672.0</td>\n",
       "      <td>63.135417</td>\n",
       "      <td>28.013906</td>\n",
       "      <td>1.0</td>\n",
       "      <td>43.0</td>\n",
       "      <td>58.5</td>\n",
       "      <td>78.0</td>\n",
       "      <td>173.0</td>\n",
       "    </tr>\n",
       "    <tr>\n",
       "      <th>1</th>\n",
       "      <td>1319.0</td>\n",
       "      <td>5.215383</td>\n",
       "      <td>3.821924</td>\n",
       "      <td>0.01</td>\n",
       "      <td>2.5350</td>\n",
       "      <td>4.48</td>\n",
       "      <td>7.1450</td>\n",
       "      <td>31.18</td>\n",
       "      <td>1319.0</td>\n",
       "      <td>25.106899</td>\n",
       "      <td>15.289962</td>\n",
       "      <td>1.0</td>\n",
       "      <td>14.0</td>\n",
       "      <td>23.0</td>\n",
       "      <td>32.0</td>\n",
       "      <td>97.0</td>\n",
       "    </tr>\n",
       "  </tbody>\n",
       "</table>\n",
       "</div>"
      ],
      "text/plain": [
       "        returns                                                          \\\n",
       "          count      mean       std    min     25%   50%     75%    max   \n",
       "pos_neg                                                                   \n",
       "0         672.0 -7.445238  8.717681 -68.71 -9.3075 -4.63 -1.5875  -0.00   \n",
       "1        1319.0  5.215383  3.821924   0.01  2.5350  4.48  7.1450  31.18   \n",
       "\n",
       "        holding_period                                                      \n",
       "                 count       mean        std  min   25%   50%   75%    max  \n",
       "pos_neg                                                                     \n",
       "0                672.0  63.135417  28.013906  1.0  43.0  58.5  78.0  173.0  \n",
       "1               1319.0  25.106899  15.289962  1.0  14.0  23.0  32.0   97.0  "
      ]
     },
     "execution_count": 59,
     "metadata": {},
     "output_type": "execute_result"
    }
   ],
   "source": [
    "historical_trades.groupby('pos_neg')[['returns', 'holding_period']].describe()"
   ]
  },
  {
   "cell_type": "code",
   "execution_count": 60,
   "id": "9d9dc48f-4db9-486f-a147-038e892855d1",
   "metadata": {},
   "outputs": [
    {
     "data": {
      "text/html": [
       "<div>\n",
       "<style scoped>\n",
       "    .dataframe tbody tr th:only-of-type {\n",
       "        vertical-align: middle;\n",
       "    }\n",
       "\n",
       "    .dataframe tbody tr th {\n",
       "        vertical-align: top;\n",
       "    }\n",
       "\n",
       "    .dataframe thead th {\n",
       "        text-align: right;\n",
       "    }\n",
       "</style>\n",
       "<table border=\"1\" class=\"dataframe\">\n",
       "  <thead>\n",
       "    <tr style=\"text-align: right;\">\n",
       "      <th></th>\n",
       "      <th>returns</th>\n",
       "    </tr>\n",
       "    <tr>\n",
       "      <th>pos_neg</th>\n",
       "      <th></th>\n",
       "    </tr>\n",
       "  </thead>\n",
       "  <tbody>\n",
       "    <tr>\n",
       "      <th>0</th>\n",
       "      <td>-5003.20</td>\n",
       "    </tr>\n",
       "    <tr>\n",
       "      <th>1</th>\n",
       "      <td>6879.09</td>\n",
       "    </tr>\n",
       "  </tbody>\n",
       "</table>\n",
       "</div>"
      ],
      "text/plain": [
       "         returns\n",
       "pos_neg         \n",
       "0       -5003.20\n",
       "1        6879.09"
      ]
     },
     "execution_count": 60,
     "metadata": {},
     "output_type": "execute_result"
    }
   ],
   "source": [
    "historical_trades.groupby('pos_neg')[['returns']].sum()"
   ]
  },
  {
   "cell_type": "code",
   "execution_count": 61,
   "id": "0e38109f-b357-4a3f-946e-d500fc76a929",
   "metadata": {},
   "outputs": [
    {
     "data": {
      "text/plain": [
       "returns    1875.89\n",
       "dtype: float64"
      ]
     },
     "execution_count": 61,
     "metadata": {},
     "output_type": "execute_result"
    }
   ],
   "source": [
    "historical_trades[['returns']].sum()"
   ]
  },
  {
   "cell_type": "code",
   "execution_count": null,
   "id": "7368973e-4ca8-4d42-a285-6f60e29ec9d8",
   "metadata": {},
   "outputs": [],
   "source": []
  }
 ],
 "metadata": {
  "kernelspec": {
   "display_name": "Python 3 (ipykernel)",
   "language": "python",
   "name": "python3"
  },
  "language_info": {
   "codemirror_mode": {
    "name": "ipython",
    "version": 3
   },
   "file_extension": ".py",
   "mimetype": "text/x-python",
   "name": "python",
   "nbconvert_exporter": "python",
   "pygments_lexer": "ipython3",
   "version": "3.8.6"
  }
 },
 "nbformat": 4,
 "nbformat_minor": 5
}
